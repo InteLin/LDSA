{
 "cells": [
  {
   "cell_type": "markdown",
   "metadata": {},
   "source": [
    "## A4"
   ]
  },
  {
   "cell_type": "code",
   "execution_count": 1,
   "metadata": {},
   "outputs": [],
   "source": [
    "from pyspark.sql import SparkSession\n",
    "\n",
    "# New API\n",
    "spark_session = SparkSession\\\n",
    "        .builder\\\n",
    "        .master(\"spark://haol-spark:7077\") \\\n",
    "        .appName(\"Question_A4\")\\\n",
    "        .getOrCreate()\n",
    "\n",
    "# Old API (RDD)\n",
    "spark_context = spark_session.sparkContext"
   ]
  },
  {
   "cell_type": "code",
   "execution_count": 2,
   "metadata": {},
   "outputs": [],
   "source": [
    "eng = spark_context.textFile(\"/home/ubuntu/LDSA/ass_2/swe_eng/europarl-v7.sv-en.en\")\\\n",
    ".pipe(\"/home/ubuntu/LDSA/ass_2/tools/tokenizer.perl -l en\")\n",
    "swe = spark_context.textFile(\"/home/ubuntu/LDSA/ass_2/swe_eng/europarl-v7.sv-en.sv\")\\\n",
    ".pipe(\"/home/ubuntu/LDSA/ass_2/tools/tokenizer.perl -l sv\")"
   ]
  },
  {
   "cell_type": "code",
   "execution_count": 3,
   "metadata": {},
   "outputs": [],
   "source": [
    "engIndex = eng.zipWithIndex()\n",
    "sweIndex = swe.zipWithIndex()"
   ]
  },
  {
   "cell_type": "code",
   "execution_count": 4,
   "metadata": {},
   "outputs": [],
   "source": [
    "engIndexInv = engIndex.map(lambda x: (x[1], x[0]))\n",
    "sweIndexInv = sweIndex.map(lambda x: (x[1], x[0]))"
   ]
  },
  {
   "cell_type": "code",
   "execution_count": 5,
   "metadata": {},
   "outputs": [],
   "source": [
    "joined = sweIndexInv.join(engIndexInv)"
   ]
  },
  {
   "cell_type": "code",
   "execution_count": 6,
   "metadata": {},
   "outputs": [
    {
     "data": {
      "text/plain": [
       "[(0, ('Återupptagande av sessionen', 'Resumption of the session')),\n",
       " (1835010,\n",
       "  ('Jag hoppas att han tar sig litet tid för att gå in på det .',\n",
       "   'I hope that he will take a little time to address this issue before we close .'))]"
      ]
     },
     "execution_count": 6,
     "metadata": {},
     "output_type": "execute_result"
    }
   ],
   "source": [
    "joined.take(2)"
   ]
  },
  {
   "cell_type": "code",
   "execution_count": 10,
   "metadata": {},
   "outputs": [],
   "source": [
    "words = joined.map(lambda x: (x[0], (x[1][0].split(\" \"), x[1][1].split(\" \"))))"
   ]
  },
  {
   "cell_type": "code",
   "execution_count": 11,
   "metadata": {},
   "outputs": [
    {
     "data": {
      "text/plain": [
       "[(0,\n",
       "  (['Återupptagande', 'av', 'sessionen'],\n",
       "   ['Resumption', 'of', 'the', 'session'])),\n",
       " (1835010,\n",
       "  (['Jag',\n",
       "    'hoppas',\n",
       "    'att',\n",
       "    'han',\n",
       "    'tar',\n",
       "    'sig',\n",
       "    'litet',\n",
       "    'tid',\n",
       "    'för',\n",
       "    'att',\n",
       "    'gå',\n",
       "    'in',\n",
       "    'på',\n",
       "    'det',\n",
       "    '.'],\n",
       "   ['I',\n",
       "    'hope',\n",
       "    'that',\n",
       "    'he',\n",
       "    'will',\n",
       "    'take',\n",
       "    'a',\n",
       "    'little',\n",
       "    'time',\n",
       "    'to',\n",
       "    'address',\n",
       "    'this',\n",
       "    'issue',\n",
       "    'before',\n",
       "    'we',\n",
       "    'close',\n",
       "    '.']))]"
      ]
     },
     "execution_count": 11,
     "metadata": {},
     "output_type": "execute_result"
    }
   ],
   "source": [
    "words.take(2)"
   ]
  },
  {
   "cell_type": "code",
   "execution_count": 24,
   "metadata": {},
   "outputs": [],
   "source": [
    "wordsFiltered = words.filter(lambda x: not \" \" == x[1][1] or not \" \" == x[1][0])\\\n",
    ".filter(lambda x: len(x[1][1])<5)\\\n",
    ".filter(lambda x: len(x[1][0])<5)\\\n",
    ".filter(lambda x: len(x[1][0])==len(x[1][1]))"
   ]
  },
  {
   "cell_type": "code",
   "execution_count": 25,
   "metadata": {},
   "outputs": [],
   "source": [
    "wordsFiltered1 = wordsFiltered.flatMap(lambda x: x[1][0])\n",
    "wordsFiltered2 = wordsFiltered.flatMap(lambda x: x[1][1])\n",
    "dictionary = wordsFiltered1.zip(wordsFiltered2)"
   ]
  },
  {
   "cell_type": "code",
   "execution_count": 26,
   "metadata": {},
   "outputs": [
    {
     "data": {
      "text/plain": [
       "40626"
      ]
     },
     "execution_count": 26,
     "metadata": {},
     "output_type": "execute_result"
    }
   ],
   "source": [
    "wordsFiltered1.count()"
   ]
  },
  {
   "cell_type": "code",
   "execution_count": 27,
   "metadata": {},
   "outputs": [
    {
     "data": {
      "text/plain": [
       "40626"
      ]
     },
     "execution_count": 27,
     "metadata": {},
     "output_type": "execute_result"
    }
   ],
   "source": [
    "wordsFiltered2.count()"
   ]
  },
  {
   "cell_type": "code",
   "execution_count": 28,
   "metadata": {},
   "outputs": [
    {
     "data": {
      "text/plain": [
       "[('Vi', 'We'), ('måste', 'must')]"
      ]
     },
     "execution_count": 28,
     "metadata": {},
     "output_type": "execute_result"
    }
   ],
   "source": [
    "dictionary.take(2)"
   ]
  },
  {
   "cell_type": "code",
   "execution_count": 31,
   "metadata": {},
   "outputs": [
    {
     "data": {
      "text/plain": [
       "PythonRDD[48] at RDD at PythonRDD.scala:48"
      ]
     },
     "execution_count": 31,
     "metadata": {},
     "output_type": "execute_result"
    }
   ],
   "source": [
    "dictionary.map(lambda x: (x, 1))\\\n",
    ".reduceByKey(lambda x, y: x+y)\\\n",
    ".sortBy(lambda x: x[1], False)"
   ]
  },
  {
   "cell_type": "code",
   "execution_count": 32,
   "metadata": {},
   "outputs": [
    {
     "data": {
      "text/plain": [
       "[('Vi', 'We'),\n",
       " ('måste', 'must'),\n",
       " ('agera', 'act'),\n",
       " ('.', '.'),\n",
       " ('(', '('),\n",
       " ('1', '1'),\n",
       " (')', ')'),\n",
       " ('(', '('),\n",
       " ('Applåder', 'Applause'),\n",
       " (')', ')'),\n",
       " ('.', ''),\n",
       " ('.', ''),\n",
       " ('Ändringsförslag', 'On'),\n",
       " ('nr', 'Amendment'),\n",
       " ('.', 'No.'),\n",
       " ('1', '1'),\n",
       " ('Luftfartsavtal', 'EU-US'),\n",
       " ('EU-Förenta', 'air'),\n",
       " ('staterna', 'agreement'),\n",
       " ('(', '(')]"
      ]
     },
     "execution_count": 32,
     "metadata": {},
     "output_type": "execute_result"
    }
   ],
   "source": [
    "dictionary.take(20)"
   ]
  },
  {
   "cell_type": "code",
   "execution_count": 33,
   "metadata": {},
   "outputs": [],
   "source": [
    "# release the cores for another application!\n",
    "spark_context.stop()"
   ]
  },
  {
   "cell_type": "code",
   "execution_count": null,
   "metadata": {},
   "outputs": [],
   "source": []
  }
 ],
 "metadata": {
  "kernelspec": {
   "display_name": "Python 3",
   "language": "python",
   "name": "python3"
  },
  "language_info": {
   "codemirror_mode": {
    "name": "ipython",
    "version": 3
   },
   "file_extension": ".py",
   "mimetype": "text/x-python",
   "name": "python",
   "nbconvert_exporter": "python",
   "pygments_lexer": "ipython3",
   "version": "3.5.2"
  }
 },
 "nbformat": 4,
 "nbformat_minor": 2
}
