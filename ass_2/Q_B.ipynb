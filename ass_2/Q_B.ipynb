{
 "cells": [
  {
   "cell_type": "code",
   "execution_count": 1,
   "metadata": {},
   "outputs": [],
   "source": [
    "from pyspark.sql import SparkSession\n",
    "from pyspark.sql import SQLContext\n",
    "from pyspark.sql.functions import *\n",
    "\n",
    "# New API\n",
    "spark_session = SparkSession\\\n",
    "        .builder\\\n",
    "        .master(\"spark://haol-spark:7077\") \\\n",
    "        .appName(\"Question_B1\")\\\n",
    "        .getOrCreate()\n",
    "\n",
    "# Old API (RDD)\n",
    "spark_context = spark_session.sparkContext\n"
   ]
  },
  {
   "cell_type": "code",
   "execution_count": 3,
   "metadata": {},
   "outputs": [],
   "source": [
    "# B.1\n",
    "data = spark_session.read.csv(\"/home/ubuntu/LDSA/ass_2/gender_eq.csv\", \\\n",
    "                         escape=\"\\\"\", ignoreLeadingWhiteSpace=True, multiLine=True, header=True, inferSchema=True)"
   ]
  },
  {
   "cell_type": "code",
   "execution_count": 4,
   "metadata": {},
   "outputs": [],
   "source": [
    "colTypes=dict(data.dtypes)"
   ]
  },
  {
   "cell_type": "code",
   "execution_count": 5,
   "metadata": {},
   "outputs": [],
   "source": [
    "for col in data.columns:\n",
    "    if colTypes[col] == \"string\":\n",
    "        data = data.withColumn(col, regexp_replace(col, \"\\\\n\", \"\")).withColumn(col, regexp_replace(col, \"\\\\r\", \"\"))"
   ]
  },
  {
   "cell_type": "code",
   "execution_count": 6,
   "metadata": {},
   "outputs": [],
   "source": [
    "sqlData = data.select(\"EmployerName\", \"DiffMeanHourlyPercent\", \"SicCodes\")"
   ]
  },
  {
   "cell_type": "code",
   "execution_count": 36,
   "metadata": {},
   "outputs": [
    {
     "name": "stdout",
     "output_type": "stream",
     "text": [
      "+------------------------------------+---------------------+-----------------+\n",
      "|EmployerName                        |DiffMeanHourlyPercent|SicCodes         |\n",
      "+------------------------------------+---------------------+-----------------+\n",
      "|\"Bryanston School\",Incorporated     |18.0                 |85310            |\n",
      "|\"RED BAND\" CHEMICAL COMPANY, LIMITED|2.3                  |47730            |\n",
      "|118 LIMITED                         |1.7                  |61900            |\n",
      "|123 EMPLOYEES LTD                   |41.0                 |78300            |\n",
      "|1610 LIMITED                        |-22.0                |93110            |\n",
      "|1879 EVENTS MANAGEMENT LIMITED      |13.4                 |56210,70229      |\n",
      "|1LIFE MANAGEMENT SOLUTIONS LIMITED  |15.1                 |93110,93130,93290|\n",
      "|1ST HOME CARE LTD.                  |15.0                 |86900,88100      |\n",
      "|1STOP HALAL LIMITED                 |11.9                 |56290            |\n",
      "|2 AGRICULTURE LIMITED               |13.4                 |1470,10910       |\n",
      "|2 SISTERS FOOD GROUP LIMITED        |15.3                 |10120            |\n",
      "|2 SISTERS POULTRY LIMITED           |4.9                  |10120            |\n",
      "|2 SISTERS RED MEAT LIMITED          |14.5                 |10110            |\n",
      "|2 Touch Bpo Services Ltd            |-0.2                 |82200            |\n",
      "|23.5 DEGREES LIMITED                |-2.0                 |56103            |\n",
      "|24 X 7 Ltd.                         |0.8                  |52290            |\n",
      "|24-7 EMPLOYMENT SOLUTIONS LIMITED   |0.0                  |78200            |\n",
      "|2Gether N H S Foundation Trust      |20.8                 |1,86210          |\n",
      "|3 WAY CLEANING LIMITED              |4.2                  |81210            |\n",
      "|3663 TRANSPORT LIMITED              |8.4                  |52290            |\n",
      "+------------------------------------+---------------------+-----------------+\n",
      "only showing top 20 rows\n",
      "\n"
     ]
    }
   ],
   "source": [
    "sqlData.show(truncate=False)"
   ]
  },
  {
   "cell_type": "code",
   "execution_count": 10,
   "metadata": {},
   "outputs": [
    {
     "name": "stdout",
     "output_type": "stream",
     "text": [
      "+--------------------------------------------------------+---------------------+-----------+\n",
      "|EmployerName                                            |DiffMeanHourlyPercent|AbsMeanDiff|\n",
      "+--------------------------------------------------------+---------------------+-----------+\n",
      "|COMPLETE CARE HOLDINGS LIMITED                          |-400.0               |400.0      |\n",
      "|BARLOWS (U.K.) LIMITED                                  |-267.6               |267.6      |\n",
      "|MILLWALL HOLDINGS PLC                                   |159.0                |159.0      |\n",
      "|INBRELLA LIMITED                                        |-150.0               |150.0      |\n",
      "|BAR 2010 LIMITED                                        |-148.0               |148.0      |\n",
      "|Solent Academies Trust                                  |-107.0               |107.0      |\n",
      "|STOKE CITY FOOTBALL CLUB LIMITED                        |92.5                 |92.5       |\n",
      "|BURNLEY FOOTBALL & ATHLETIC COMPANY, LIMITED(THE)       |88.4                 |88.4       |\n",
      "|SWANSEA CITY ASSOCIATION FOOTBALL CLUB LIMITED(THE)     |87.8                 |87.8       |\n",
      "|MANCHESTER CITY FOOTBALL CLUB LIMITED                   |87.7                 |87.7       |\n",
      "|WEST HAM UNITED FOOTBALL CLUB LIMITED                   |87.4                 |87.4       |\n",
      "|WATFORD ASSOCIATION FOOTBALL CLUB LIMITED(THE)          |87.0                 |87.0       |\n",
      "|SUNDERLAND ASSOCIATION FOOTBALL CLUB,LIMITED(THE)       |85.1                 |85.1       |\n",
      "|WEST BROMWICH ALBION FOOTBALL CLUB LIMITED              |84.4                 |84.4       |\n",
      "|SOUTHAMPTON FOOTBALL CLUB LIMITED                       |84.4                 |84.4       |\n",
      "|CPFC LIMITED                                            |84.0                 |84.0       |\n",
      "|NEWCASTLE UNITED FOOTBALL COMPANY LIMITED               |83.3                 |83.3       |\n",
      "|AFC BOURNEMOUTH LIMITED                                 |83.0                 |83.0       |\n",
      "|CHELSEA FOOTBALL CLUB LIMITED                           |83.0                 |83.0       |\n",
      "|MIDDLESBROUGH FOOTBALL & ATHLETIC COMPANY (1986) LIMITED|83.0                 |83.0       |\n",
      "+--------------------------------------------------------+---------------------+-----------+\n",
      "only showing top 20 rows\n",
      "\n"
     ]
    }
   ],
   "source": [
    "dataSorted = sqlData.select(\"EmployerName\", \"DiffMeanHourlyPercent\", \\\n",
    "                        abs(sqlData[\"DiffMeanHourlyPercent\"]).alias(\"AbsMeanDiff\")) \\\n",
    "                        .sort(\"AbsMeanDiff\", ascending=False)\n",
    "dataSorted.show(truncate=False)"
   ]
  },
  {
   "cell_type": "code",
   "execution_count": 11,
   "metadata": {},
   "outputs": [
    {
     "name": "stdout",
     "output_type": "stream",
     "text": [
      "+------------------------------------------+---------------------+-----------+\n",
      "|EmployerName                              |DiffMeanHourlyPercent|AbsMeanDiff|\n",
      "+------------------------------------------+---------------------+-----------+\n",
      "|COOPER TOPCO LIMITED                      |0.0                  |0.0        |\n",
      "|BOREAL LIMITED                            |0.0                  |0.0        |\n",
      "|COMFORT CALL LIMITED                      |0.0                  |0.0        |\n",
      "|AVENUE CARE SERVICES LIMITED              |0.0                  |0.0        |\n",
      "|BLUES AGENCY LIMITED                      |0.0                  |0.0        |\n",
      "|CAVITY DENTAL STAFF AGENCY LTD            |0.0                  |0.0        |\n",
      "|CMD RECRUITMENT LIMITED                   |0.0                  |0.0        |\n",
      "|ACCA LIMITED                              |0.0                  |0.0        |\n",
      "|ARRIVA DURHAM COUNTY LIMITED              |0.0                  |0.0        |\n",
      "|BANBURY HEATH LIMITED                     |0.0                  |0.0        |\n",
      "|BESPOKE CLEANING SERVICES LIMITED         |0.0                  |0.0        |\n",
      "|BRAYBORNE FACILITIES SERVICES LIMITED     |0.0                  |0.0        |\n",
      "|CARE AT HOME SERVICES (SOUTH EAST) LIMITED|0.0                  |0.0        |\n",
      "|Choices Housing Association Ltd.          |0.0                  |0.0        |\n",
      "|CINNAMON CARE COLLECTION LIMITED          |0.0                  |0.0        |\n",
      "|24-7 EMPLOYMENT SOLUTIONS LIMITED         |0.0                  |0.0        |\n",
      "|725 LIMITED                               |0.0                  |0.0        |\n",
      "|ACUMEN LOGISTICS GROUP LIMITED            |0.0                  |0.0        |\n",
      "|ANGEL HUMAN RESOURCES LIMITED             |0.0                  |0.0        |\n",
      "|Avenues South East                        |0.0                  |0.0        |\n",
      "+------------------------------------------+---------------------+-----------+\n",
      "only showing top 20 rows\n",
      "\n"
     ]
    }
   ],
   "source": [
    "dataSorted = dataSorted.sort(\"AbsMeanDiff\", ascending=True)\n",
    "dataSorted.show(truncate=False)"
   ]
  },
  {
   "cell_type": "code",
   "execution_count": null,
   "metadata": {},
   "outputs": [],
   "source": []
  },
  {
   "cell_type": "code",
   "execution_count": 12,
   "metadata": {},
   "outputs": [],
   "source": [
    "sqlDataAvg  = sqlData.groupBy().mean(\"DiffMeanHourlyPercent\")"
   ]
  },
  {
   "cell_type": "code",
   "execution_count": 13,
   "metadata": {},
   "outputs": [
    {
     "name": "stdout",
     "output_type": "stream",
     "text": [
      "+--------------------------+\n",
      "|avg(DiffMeanHourlyPercent)|\n",
      "+--------------------------+\n",
      "|          14.2997905559787|\n",
      "+--------------------------+\n",
      "\n"
     ]
    }
   ],
   "source": [
    "sqlDataAvg.show()"
   ]
  },
  {
   "cell_type": "code",
   "execution_count": null,
   "metadata": {},
   "outputs": [],
   "source": [
    "sqlDataAvg.write.save(\"mean_pay_gap.csv\", format=\"csv\")"
   ]
  },
  {
   "cell_type": "code",
   "execution_count": 20,
   "metadata": {},
   "outputs": [],
   "source": [
    "dataNeg = sqlData.filter(sqlData[\"DiffMeanHourlyPercent\"] < 0)"
   ]
  },
  {
   "cell_type": "code",
   "execution_count": 23,
   "metadata": {},
   "outputs": [
    {
     "data": {
      "text/plain": [
       "1225"
      ]
     },
     "execution_count": 23,
     "metadata": {},
     "output_type": "execute_result"
    }
   ],
   "source": [
    "dataNeg.count()"
   ]
  },
  {
   "cell_type": "code",
   "execution_count": 24,
   "metadata": {},
   "outputs": [
    {
     "data": {
      "text/plain": [
       "10504"
      ]
     },
     "execution_count": 24,
     "metadata": {},
     "output_type": "execute_result"
    }
   ],
   "source": [
    "sqlData.count()"
   ]
  },
  {
   "cell_type": "code",
   "execution_count": 25,
   "metadata": {},
   "outputs": [
    {
     "name": "stdout",
     "output_type": "stream",
     "text": [
      "0.11662223914699162\n"
     ]
    }
   ],
   "source": [
    "print(1225/10504)"
   ]
  },
  {
   "cell_type": "markdown",
   "metadata": {},
   "source": [
    "## B.2"
   ]
  },
  {
   "cell_type": "code",
   "execution_count": 26,
   "metadata": {},
   "outputs": [],
   "source": [
    "sic = spark_session.read.csv('/home/ubuntu/LDSA/ass_2/sic.csv', header=\"true\", inferSchema=\"true\", multiLine=\"true\", escape=\"\\\"\")"
   ]
  },
  {
   "cell_type": "code",
   "execution_count": 27,
   "metadata": {},
   "outputs": [],
   "source": [
    "# Remove entries without and with extra SIC-codes\n",
    "import re\n",
    "dataSIC = sqlData.filter(sqlData[\"SicCodes\"] != \"None\")\n",
    "dataSIC = dataSIC.withColumn(\"SicCodes\", regexp_replace(\"SicCodes\", \",\\d*\", \"\"))\n",
    "dataSIC = dataSIC.withColumn(\"SicCodes\", dataSIC.SicCodes.cast(\"int\"))"
   ]
  },
  {
   "cell_type": "code",
   "execution_count": 28,
   "metadata": {},
   "outputs": [],
   "source": [
    "codes = []\n",
    "for line in sic.collect():\n",
    "    for i in range(line.Max - line.Min + 1):\n",
    "        codes.append((line.Min + i, line.Sector))\n",
    "\n",
    "codesBr = spark_context.broadcast(spark_context.parallelize(codes).collectAsMap())"
   ]
  },
  {
   "cell_type": "markdown",
   "metadata": {},
   "source": [
    "from pyspark.sql.functions import UserDefinedFunction\n",
    "sicFit = UserDefinedFunction(lambda x: codesBr.value[int(x/1000)])\n",
    "\n",
    "dataSIC = dataSIC.filter(dataSIC[\"SicCodes\"] != 1) \\\n",
    "                        .withColumn(\"Sector\", sicFit(\"SicCodes\"))"
   ]
  },
  {
   "cell_type": "code",
   "execution_count": 30,
   "metadata": {},
   "outputs": [
    {
     "name": "stdout",
     "output_type": "stream",
     "text": [
      "+--------------------+---------------------+--------+--------------------+\n",
      "|        EmployerName|DiffMeanHourlyPercent|SicCodes|              Sector|\n",
      "+--------------------+---------------------+--------+--------------------+\n",
      "|\"Bryanston School...|                 18.0|   85310|           EDUCATION|\n",
      "|\"RED BAND\" CHEMIC...|                  2.3|   47730|WHOLESALE AND RET...|\n",
      "|         118 LIMITED|                  1.7|   61900|INFORMATION AND C...|\n",
      "|   123 EMPLOYEES LTD|                 41.0|   78300|ADMINISTRATIVE AN...|\n",
      "|        1610 LIMITED|                -22.0|   93110|ARTS ENTERTAINMEN...|\n",
      "|1879 EVENTS MANAG...|                 13.4|   56210|ACCOMMODATION AND...|\n",
      "|1LIFE MANAGEMENT ...|                 15.1|   93110|ARTS ENTERTAINMEN...|\n",
      "|  1ST HOME CARE LTD.|                 15.0|   86900|HUMAN HEALTH AND ...|\n",
      "| 1STOP HALAL LIMITED|                 11.9|   56290|ACCOMMODATION AND...|\n",
      "|2 AGRICULTURE LIM...|                 13.4|    1470|AGRICULTURE FORES...|\n",
      "|2 SISTERS FOOD GR...|                 15.3|   10120|       MANUFACTURING|\n",
      "|2 SISTERS POULTRY...|                  4.9|   10120|       MANUFACTURING|\n",
      "|2 SISTERS RED MEA...|                 14.5|   10110|       MANUFACTURING|\n",
      "|2 Touch Bpo Servi...|                 -0.2|   82200|ADMINISTRATIVE AN...|\n",
      "|23.5 DEGREES LIMITED|                 -2.0|   56103|ACCOMMODATION AND...|\n",
      "|         24 X 7 Ltd.|                  0.8|   52290|TRANSPORTATION AN...|\n",
      "|24-7 EMPLOYMENT S...|                  0.0|   78200|ADMINISTRATIVE AN...|\n",
      "|3 WAY CLEANING LI...|                  4.2|   81210|ADMINISTRATIVE AN...|\n",
      "|3663 TRANSPORT LI...|                  8.4|   52290|TRANSPORTATION AN...|\n",
      "|3M UNITED KINGDOM...|                 14.0|   20301|       MANUFACTURING|\n",
      "+--------------------+---------------------+--------+--------------------+\n",
      "only showing top 20 rows\n",
      "\n"
     ]
    }
   ],
   "source": [
    "dataSIC.show()"
   ]
  },
  {
   "cell_type": "code",
   "execution_count": 31,
   "metadata": {},
   "outputs": [],
   "source": [
    "sectorMean = dataSIC.groupBy(\"Sector\") \\\n",
    "                        .mean(\"DiffMeanHourlyPercent\") \\\n",
    "                        .withColumnRenamed(\"avg(DiffMeanHourlyPercent)\", \"MeanDiff\")"
   ]
  },
  {
   "cell_type": "code",
   "execution_count": 32,
   "metadata": {},
   "outputs": [
    {
     "name": "stdout",
     "output_type": "stream",
     "text": [
      "+--------------------+------------------+\n",
      "|              Sector|          MeanDiff|\n",
      "+--------------------+------------------+\n",
      "|ACTIVITIES OF HOU...| 3.133333333333333|\n",
      "|HUMAN HEALTH AND ...| 6.588755622188904|\n",
      "|WATER SUPPLY SEWE...| 7.499999999999998|\n",
      "|ACCOMMODATION AND...| 7.934003656307122|\n",
      "|PUBLIC ADMINISTRA...| 9.176190476190477|\n",
      "|ACTIVITIES OF EXT...| 9.944444444444445|\n",
      "|TRANSPORTATION AN...|10.213910761154864|\n",
      "|ADMINISTRATIVE AN...|11.274045801526723|\n",
      "|           EDUCATION|11.714520547945208|\n",
      "|OTHER SERVICE ACT...| 12.46292682926829|\n",
      "|AGRICULTURE FORES...|              12.8|\n",
      "|       MANUFACTURING|13.301317715959009|\n",
      "|WHOLESALE AND RET...| 14.92169999999999|\n",
      "|ELECTRICITY GAS S...| 15.27818181818182|\n",
      "|REAL ESTATE ACTIV...|16.024799999999995|\n",
      "|PROFESSIONAL SCIE...|18.477335164835157|\n",
      "|INFORMATION AND C...|19.500473933649314|\n",
      "|ARTS ENTERTAINMEN...|20.689416058394166|\n",
      "|MINING AND QUARRYING|20.729999999999997|\n",
      "|        CONSTRUCTION|21.707570977917985|\n",
      "+--------------------+------------------+\n",
      "only showing top 20 rows\n",
      "\n"
     ]
    }
   ],
   "source": [
    "sectorMean.sort(\"MeanDiff\").show()"
   ]
  },
  {
   "cell_type": "code",
   "execution_count": 33,
   "metadata": {},
   "outputs": [],
   "source": [
    "# B.2.3 Calculate variance\n",
    "sectorVar = dataSIC.groupBy(\"Sector\") \\\n",
    "                        .agg(variance(dataSIC.DiffMeanHourlyPercent)) \\\n",
    "                        .withColumnRenamed(\"var_samp(DiffMeanHourlyPercent)\", \"VarDiff\")\n",
    "sectorStats = sectorMean.join(sectorVar, [\"Sector\"])"
   ]
  },
  {
   "cell_type": "code",
   "execution_count": 35,
   "metadata": {},
   "outputs": [
    {
     "name": "stdout",
     "output_type": "stream",
     "text": [
      "+--------------------+------------------+------------------+\n",
      "|              Sector|          MeanDiff|           VarDiff|\n",
      "+--------------------+------------------+------------------+\n",
      "|ACTIVITIES OF HOU...| 3.133333333333333| 4.853333333333333|\n",
      "|HUMAN HEALTH AND ...| 6.588755622188904| 382.6790775783276|\n",
      "|WATER SUPPLY SEWE...| 7.499999999999998|182.80441176470592|\n",
      "|ACCOMMODATION AND...| 7.934003656307122| 92.24821892306353|\n",
      "|PUBLIC ADMINISTRA...| 9.176190476190477|153.89112659698029|\n",
      "|ACTIVITIES OF EXT...| 9.944444444444445| 53.88527777777777|\n",
      "|TRANSPORTATION AN...|10.213910761154864| 205.6516217709626|\n",
      "|ADMINISTRATIVE AN...|11.274045801526723|209.92382495885113|\n",
      "|           EDUCATION|11.714520547945208| 146.8952006623513|\n",
      "|OTHER SERVICE ACT...| 12.46292682926829|181.57783452893355|\n",
      "|AGRICULTURE FORES...|              12.8|156.11877551020405|\n",
      "|       MANUFACTURING|13.301317715959009| 157.9409213392759|\n",
      "|WHOLESALE AND RET...| 14.92169999999999|198.42528439439434|\n",
      "|ELECTRICITY GAS S...| 15.27818181818182|161.99173737373735|\n",
      "|REAL ESTATE ACTIV...|16.024799999999995|222.04284774193547|\n",
      "|PROFESSIONAL SCIE...|18.477335164835157| 292.3287428201097|\n",
      "|INFORMATION AND C...|19.500473933649314|130.29016604563708|\n",
      "|ARTS ENTERTAINMEN...|20.689416058394166|  819.136041416005|\n",
      "|MINING AND QUARRYING|20.729999999999997|147.53806779661014|\n",
      "|        CONSTRUCTION|21.707570977917985|495.79215768877566|\n",
      "+--------------------+------------------+------------------+\n",
      "only showing top 20 rows\n",
      "\n"
     ]
    }
   ],
   "source": [
    "sectorStats.sort(\"MeanDiff\").show()"
   ]
  },
  {
   "cell_type": "code",
   "execution_count": 37,
   "metadata": {},
   "outputs": [],
   "source": [
    "spark_context.stop()"
   ]
  },
  {
   "cell_type": "code",
   "execution_count": null,
   "metadata": {},
   "outputs": [],
   "source": []
  }
 ],
 "metadata": {
  "kernelspec": {
   "display_name": "Python 3",
   "language": "python",
   "name": "python3"
  },
  "language_info": {
   "codemirror_mode": {
    "name": "ipython",
    "version": 3
   },
   "file_extension": ".py",
   "mimetype": "text/x-python",
   "name": "python",
   "nbconvert_exporter": "python",
   "pygments_lexer": "ipython3",
   "version": "3.5.2"
  }
 },
 "nbformat": 4,
 "nbformat_minor": 2
}
