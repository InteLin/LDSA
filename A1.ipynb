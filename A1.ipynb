{
 "cells": [
  {
   "cell_type": "markdown",
   "metadata": {},
   "source": [
    "## Assignment 1 notebook"
   ]
  },
  {
   "cell_type": "markdown",
   "metadata": {},
   "source": [
    "### Task 1.1 (word count example)\n",
    "Created an instance based on the “​ Hadoop-Lab2-volume-final-snapshot​ ” snapshot. Connected using commands ```chmod 700 ldsa.pem``` and ```ssh -i ldsa.pem ubuntu@129.16.122.22```. \n",
    "Added hostname 'haol-a1' to etc/hosts.\n",
    "Downloaded input data using command ```wget http://www.gutenberg.org/ebooks/20417.txt.utf-8```\n",
    "Executed command ```/usr/local/hadoop/bin/hadoop jar /usr/local/hadoop/share/hadoop/mapreduce/hadoop*examples*.jar wordcount input output```\n",
    "\n",
    "\n",
    "#### Questions:\n",
    " - Look at the contents of the folder “output” - what are the files place in there? What do they mean?\n",
    " \n",
    "There are two files called _SUCCESS and part-r-00000. _SUCCESS is empty but the fact that it has been created menas the operation was completed successfully. part-r-00000 contains the result of the reudction; all the words and how many of them appear.\n",
    " \n",
    "  - In this example we used Hadoop in “​ Local (Standalone) Mode​ ”. What is the difference between this mode and the Pseudo-distributed mode?\n",
    "  \n",
    "The difference between Local (Standalone) mode and Pseudo-distributed mode is that in standalone mode hadoop runs as a single Java process without any daemons. In this case HDFS is not used.\n",
    "Pseudo-distributed mode means that a small scale cluster is simulated, running daemons on the local machine and using HDFS."
   ]
  },
  {
   "cell_type": "markdown",
   "metadata": {},
   "source": [
    "### Task 1.2\n",
    "Setup hadoop as pseudo-distributed by going to '/usr/local/hadoop/etc/hadoop/core-site.xml' and adding:\n",
    "```\n",
    "<configuration>\n",
    "    <property>\n",
    "        <name>fs.defaultFS</name>\n",
    "        <value>hdfs://localhost:9000</value>\n",
    "    </property>\n",
    "</configuration>\n",
    "```\n",
    "\n",
    "and to '/usr/local/hadoop/etc/hadoop/hdfs-site.xml': \n",
    "```\n",
    "<configuration>\n",
    "    <property>\n",
    "        <name>dfs.replication</name>\n",
    "        <value>1</value>\n",
    "    </property>\n",
    "</configuration>\n",
    "```\n",
    "These three commands were executed in order to get passphraseless connection to localhost ssh:\n",
    "\n",
    "  ```$ ssh-keygen -t rsa -P '' -f ~/.ssh/id_rsa ```\n",
    "  \n",
    "  ```$ cat ~/.ssh/id_rsa.pub >> ~/.ssh/authorized_keys```\n",
    "  \n",
    "  ```$ chmod 0600 ~/.ssh/authorized_keys```\n",
    "  \n",
    "System was formatted using command \n",
    "```$ bin/hdfs namenode -format```\n",
    "NameNode and DataNode daemons were started by executing command \n",
    "```$ sbin/start-dfs.sh```\n",
    "\n",
    "```$ jps``` gave out:\n",
    "\n",
    "16912 SecondaryNameNode\n",
    "\n",
    "17026 Jps\n",
    "\n",
    "16642 NameNode\n",
    "\n",
    "16756 DataNode\n",
    "\n",
    "so everything seemed to be in order.\n",
    "\n",
    "#### Questions: \n",
    " - What are the roles of the files core-site.xml and hdfs-site.xml ?\n",
    "The role of core-site.xml is for any site-specific property overrides that the user might want to define. In our example we defined where in the cluster namenode should run.\n",
    "Hdfs-site.xml contains the configuration settings for the hdfs daemons (NameNode, Secondary NameNode and the DataNodes). \n",
    "\n",
    " - Describe briefly the roles of the different services listed when executing ‘jps’.\n",
    "\n",
    " "
   ]
  },
  {
   "cell_type": "markdown",
   "metadata": {},
   "source": [
    "### Task 1.3\n",
    "Compiled the wordcount example and made a jar-file by executing commands:\n",
    "\n",
    "```$ cd /home/ubuntu/wordcount```\n",
    "\n",
    "```$ javac -cp `/usr/local/hadoop/bin/hadoop classpath` WordCount.java```\n",
    "\n",
    "```$ jar -cvf wordcount.jar *.cla```\n",
    "\n",
    "Ran the hadoop code using command:\n",
    "\n",
    "```$ /usr/local/hadoop/bin/hadoop jar wordcount.jar WordCount input output2```\n",
    "\n",
    "Ran command:\n",
    "\n",
    "```$ /usr/local/hadoop/bin/hdfs dfs -ls output2```\n",
    "\n",
    "It showed the two files '_SUCCESS' and 'part-00000'\n",
    "\n",
    "The command:\n",
    "\n",
    "```$ /usr/local/hadoop/bin/hdfs dfs -ls output2/part-00000```\n",
    "\n",
    "showed the contents of the result files, all semmes to have worked fine.\n",
    "\n",
    "#### Questions:\n",
    " - Explain the roles of the different classes in the file WordCount.java.\n",
    "The two classes in WordCount.java is Map and Reduce. Map takes the input and creates a set of intermediate key-value pairs. The role of Reduce is to take these intermediate key-value pairs and reduce the set. This is done by combining the same keys and adding their value so that the set consists of fewer key-value pairs."
   ]
  },
  {
   "cell_type": "markdown",
   "metadata": {},
   "source": [
    "### Task 1.4\n",
    "\n",
    "The existing WordCount example was modified to count the characters at the beginning of the words instead. \n",
    "\n",
    "The result of this is seen underneath.\n",
    "\n",
    "#### Questions:\n",
    " - Describe the role of Combiners in MapReduce.\n",
    "The role of Combiners is to reduce the size of the data that is transferred between Map and Reduce. This is done by summarizing the output from Map that has the same key.\n",
    " \n",
    "#### Plot:"
   ]
  },
  {
   "cell_type": "code",
   "execution_count": 38,
   "metadata": {},
   "outputs": [
    {
     "data": {
      "image/png": "[encoded data removed]",
      "text/plain": [
       "<matplotlib.figure.Figure at 0x7f952aaad6d8>"
      ]
     },
     "metadata": {},
     "output_type": "display_data"
    }
   ],
   "source": [
    "import numpy as np\n",
    "import matplotlib.pyplot as plt\n",
    "\n",
    "with open(\"./wordcount/part-00000\") as f:\n",
    "    lines = f.readlines()\n",
    "    character = [line.split()[0] for line in lines]\n",
    "    y = [int(line.split()[1]) for line in lines]\n",
    "    \n",
    "x = np.arange(len(y))\n",
    "    \n",
    "plt.bar(x, y, align='center', alpha=0.5)\n",
    "plt.xticks(x, character)\n",
    "plt.xlabel(\"Character\")\n",
    "plt.ylabel(\"Count\")\n",
    "plt.title(\"Beginning character count\")\n",
    "    \n",
    "plt.show()"
   ]
  },
  {
   "cell_type": "markdown",
   "metadata": {},
   "source": [
    "## Part II: Analyzing twitter data using Hadoop streaming and Python\n",
    "\n",
    "Using the provided tutorial as a basis python code was written to parse the tweets and find occurances of the words \"han\", \"hon\", \"den\", \"det\", \"denna\", \"denne\" and \"hen\". The occurance of these were counted and plotted (ignoring retweets).\n",
    "\n",
    "#### Question:\n",
    " - Based on the documentation in the above link, how would you classify the JSON-formatted tweets? Structured, semi-structured or unstructured data? What could be the challenges of using traditional row-based RDBMs to store and analyze this dataset (apart from the possibility of very large datasets)?\n",
    " \n",
    "I would classify JSON-formatted tweets as structured data. One challenge in using traditional row-based RDBMs could be that it takes some extra work to get the information out of the JSON format. This might not be an íssue when working with small data sets but might make it unusable if the dataset gets bigger.  \n",
    "\n",
    "#### Plot:"
   ]
  },
  {
   "cell_type": "code",
   "execution_count": 13,
   "metadata": {
    "scrolled": true
   },
   "outputs": [
    {
     "data": {
      "image/png": "[encoded data removed]",
      "text/plain": [
       "<matplotlib.figure.Figure at 0x7fc6116d5f28>"
      ]
     },
     "metadata": {},
     "output_type": "display_data"
    }
   ],
   "source": [
    "import numpy as np\n",
    "import matplotlib.pyplot as plt\n",
    "\n",
    "with open(\"./part2/tweet_result.txt\") as f:\n",
    "    lines = f.readlines()\n",
    "    word = [line.split()[0] for line in lines]\n",
    "    count = [int(line.split()[1]) for line in lines]\n",
    "    \n",
    "total = count[7]\n",
    "x = np.arange(len(word))\n",
    "y = [count[0]/total, count[1]/total, count[2]/total, count[3]/total, count[4]/total, count[5]/total, count[6]/total, count[7]/total]\n",
    "    \n",
    "plt.bar(x, y, align='center')\n",
    "plt.xticks(x, word)\n",
    "plt.xlabel(\"Word\")\n",
    "plt.ylabel(\"Occurance %\")\n",
    "plt.title(\"Tweet word occurance\")\n",
    "    \n",
    "plt.show()"
   ]
  },
  {
   "cell_type": "code",
   "execution_count": null,
   "metadata": {},
   "outputs": [],
   "source": []
  }
 ],
 "metadata": {
  "kernelspec": {
   "display_name": "Python 3",
   "language": "python",
   "name": "python3"
  },
  "language_info": {
   "codemirror_mode": {
    "name": "ipython",
    "version": 3
   },
   "file_extension": ".py",
   "mimetype": "text/x-python",
   "name": "python",
   "nbconvert_exporter": "python",
   "pygments_lexer": "ipython3",
   "version": "3.5.2"
  }
 },
 "nbformat": 4,
 "nbformat_minor": 2
}
